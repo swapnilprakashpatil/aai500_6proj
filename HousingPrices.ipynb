{
 "cells": [
  {
   "cell_type": "markdown",
   "metadata": {},
   "source": [
    "> # California Housing Prices Statistical Analysis and Prediction\n",
    " ![California Housing Prices Statistical Analysis and Prediction](images/header.png)"
   ]
  },
  {
   "cell_type": "markdown",
   "metadata": {},
   "source": [
    "1. [Introduction](#introduction)\n",
    "1. [Objective](#objective)\n",
    "1. [Dataset](#dataset)\n",
    "1. [Data Cleaning / Preparation](#datacleaning)\n",
    "1. [Exploratory Data Analysis](#exploratory)\n",
    "    - [Distribution Analysis](#distribution)\n",
    "    - [Relationship Analysis](#relationship)\n",
    "    - [Correlation Analysis](#correlation)\n",
    "    - [Box Plot Analysis](#boxplot)\n",
    "    - [Pair Plot Analysis](#paiplot)\n",
    "    - [Exploratory Data Analysis Summary](#edasummary)\n",
    "    - [Exploratory Data Analysis Conclusion](#edaconclusion)\n",
    "1. [Model Selection](#modelselection):\n",
    "    - [Model Selection Criteria](#modelselectioncriteria)\n",
    "    - [Planned Models for Selection](#modelselectionplanned)\n",
    "    - [Steps for Models Selection](#modelselectionsteps)\n",
    "1. [Model Analysis](#modelanalysis)\n",
    "    - [Model Analysis Criteria](#modelcriteria)\n",
    "    - [Sampling](#sampling)\n",
    "    - [Linear Regression (Median House Value using Median Income)](#linear1)\n",
    "    - [Linear Regression (Using Longitude and Latitude to predict house prices based on location)](#linear2)\n",
    "    - [Multiple Linear Regression (Using Median Income, Total Rooms, Population)](#multiple)\n",
    "    - [Ridge Regression (Using Median Income)](#ridge)\n",
    "    - [Lasso Regression (Using Median Income)](#lasso)\n",
    "    - [Polynomial Regression (Using Median Income)](#polynomial)\n",
    "    - [Random Forest Regression (Using Median Income)](#randomforest)\n",
    "1. [Comparative Analysis, interpretation of models and visualization](#comparative)   \n",
    "1. [Hypothesis validation and testing](#hypothesis)\n",
    "1. [Conclusion](#conclusion)\n",
    "1. [References](#references)"
   ]
  },
  {
   "cell_type": "markdown",
   "metadata": {},
   "source": [
    "<a id='introduction'></a>\n",
    "## Introduction:\n",
    "---"
   ]
  },
  {
   "cell_type": "markdown",
   "metadata": {},
   "source": [
    "<a id='objective'></a>\n",
    "## Objective:\n",
    "---"
   ]
  },
  {
   "cell_type": "markdown",
   "metadata": {},
   "source": [
    "<a id='dataset'></a>\n",
    "## Dataset:\n",
    "---"
   ]
  },
  {
   "cell_type": "markdown",
   "metadata": {},
   "source": [
    "The California Housing Prices dataset from Kaggle shows a snapshot taken from the 1990 census. This dataset has mainly been used for regression tasks in machine learning regarding median house price prediction. Let's take a glimpse into the dataset:\n",
    "\n",
    "**Dataset Features**: The dataset includes 20,640 entries with the following 10 columns:\n",
    "\n",
    "1. longitude: The geographical longitude of the district (float).\n",
    "1. latitude: The geographical latitude of the district (float).\n",
    "1. housing_median_age: The median age of the houses in the district (float).\n",
    "1. total_rooms: The total number of rooms in the district (float).\n",
    "1. total_bedrooms: The total number of bedrooms in the district (float, some missing values).\n",
    "1. population: The population of the district (float).\n",
    "1. households: The number of households in the district (float).\n",
    "1. median_income: The median income for households in the district, in tens of thousands of dollars (float).\n",
    "1. median_house_value: The median house value for households in the district, in US dollars (float, target variable).\n",
    "1. ocean_proximity: The categorical variable indicating proximity to the ocean, with values like NEAR BAY, INLAND, NEAR OCEAN, and ISLAND."
   ]
  },
  {
   "cell_type": "markdown",
   "metadata": {},
   "source": [
    "### **Package Requirements**:"
   ]
  },
  {
   "cell_type": "code",
   "execution_count": null,
   "metadata": {},
   "outputs": [],
   "source": [
    "!pip install folium"
   ]
  },
  {
   "cell_type": "markdown",
   "metadata": {},
   "source": [
    "### **Imports**:"
   ]
  },
  {
   "cell_type": "code",
   "execution_count": 64,
   "metadata": {},
   "outputs": [],
   "source": [
    "import pandas as pd\n",
    "import numpy as np\n",
    "import seaborn as sns\n",
    "import folium\n",
    "import statsmodels.api as sm\n",
    "import matplotlib.pyplot as plt\n",
    "from sklearn.model_selection import train_test_split, RandomizedSearchCV\n",
    "from sklearn.linear_model import LinearRegression, Ridge, Lasso\n",
    "from sklearn.preprocessing import PolynomialFeatures\n",
    "from sklearn.ensemble import RandomForestRegressor\n",
    "from sklearn.metrics import mean_squared_error, r2_score, mean_absolute_error\n",
    "from scipy import stats\n",
    "from folium.plugins import HeatMap\n",
    "from mpl_toolkits.mplot3d import Axes3D\n",
    "\n",
    "# Setting up inline plotting\n",
    "%matplotlib inline"
   ]
  },
  {
   "cell_type": "markdown",
   "metadata": {},
   "source": [
    "**Data Import**:"
   ]
  },
  {
   "cell_type": "code",
   "execution_count": null,
   "metadata": {},
   "outputs": [],
   "source": [
    "data = pd.read_csv('dataset/housing_original.csv')\n",
    "data.info()"
   ]
  },
  {
   "cell_type": "code",
   "execution_count": null,
   "metadata": {},
   "outputs": [],
   "source": [
    "data.head()"
   ]
  },
  {
   "cell_type": "markdown",
   "metadata": {},
   "source": [
    "These statistics provide a foundational understanding of the dataset's structure, indicating the diverse housing and economic landscape across California. \n",
    "1. **Longitude and Latitude**: The dataset covers a geographic area with longitude ranging from -124.35 to -114.31 and latitude from 32.54 to 41.95, corresponding to California’s general geographic boundaries.\n",
    "1. **Housing Median Age**: The median housing age is around 28.6 years, with a minimum of 1 and a maximum of 52 years, indicating that most homes fall within a mid-aged range.\n",
    "1. **Total Rooms and Bedrooms**: Total rooms range from 2 to 39,320, and total bedrooms from 1 to 6,445, highlighting a large variation in housing sizes. Median total rooms and bedrooms are 2,127 and 435, respectively, suggesting that most houses are moderately sized.\n",
    "1. **Population and Households**: Population per block group varies from as low as 3 to as high as 35,682, while households range from 1 to 6,082, showing significant demographic differences across regions.\n",
    "1. **Median Income**: Median income ranges widely, from $0.5k to $15k (in tens of thousands), with an average of $3.87k, indicating economic diversity across neighborhoods.\n",
    "1. **Median House Value (Target Variable)**: House values span from $14,999 to $500,001, with a mean of $206,855. The maximum value is capped at 500,001, suggesting the data might have been truncated."
   ]
  },
  {
   "cell_type": "code",
   "execution_count": null,
   "metadata": {},
   "outputs": [],
   "source": [
    "data.describe()"
   ]
  },
  {
   "cell_type": "markdown",
   "metadata": {},
   "source": [
    "<a id='datacleaning'></a>\n",
    "## Data Cleaning:\n",
    "---"
   ]
  },
  {
   "cell_type": "markdown",
   "metadata": {},
   "source": [
    "1. **Handling Missing Values**: The missing values in the total_bedrooms column are addressed by imputing them with the median value of the column. This approach maintains the central tendency and mitigates the impact of outliers in the data."
   ]
  },
  {
   "cell_type": "code",
   "execution_count": 68,
   "metadata": {},
   "outputs": [],
   "source": [
    "# Drop rows with missing values\n",
    "data.dropna(inplace=True)\n",
    "\n",
    "# Drop duplicate rows\n",
    "data.drop_duplicates(inplace=True)"
   ]
  },
  {
   "cell_type": "markdown",
   "metadata": {},
   "source": [
    "2. **Detecting and Handling Outliers**: To ensure the dataset's integrity, the Interquartile Range (IQR) method is applied to detect and handle potential outliers, focusing on the median_house_value column. This process helps in reducing the skewness caused by extreme values."
   ]
  },
  {
   "cell_type": "code",
   "execution_count": 69,
   "metadata": {},
   "outputs": [],
   "source": [
    "# Define a function to remove outliers based on the IQR method\n",
    "def remove_outliers(df, column):\n",
    "    Q1 = df[column].quantile(0.25)\n",
    "    Q3 = df[column].quantile(0.75)\n",
    "    IQR = Q3 - Q1\n",
    "    lower_bound = Q1 - 1.5 * IQR\n",
    "    upper_bound = Q3 + 1.5 * IQR\n",
    "    # Filter out rows with values outside the lower and upper bounds\n",
    "    return df[(df[column] >= lower_bound) & (df[column] <= upper_bound)]\n",
    "\n",
    "# Apply outlier removal for 'median_house_value'\n",
    "data = remove_outliers(data, 'median_house_value').copy()"
   ]
  },
  {
   "cell_type": "markdown",
   "metadata": {},
   "source": [
    "3. **Encoding the Categorical Variable**: The categorical feature ocean_proximity is encoded using one-hot encoding. This method converts the categorical variable into a numeric format that can be used in further analysis and predictive modeling."
   ]
  },
  {
   "cell_type": "code",
   "execution_count": 70,
   "metadata": {},
   "outputs": [],
   "source": [
    "# Perform one-hot encoding for 'ocean_proximity'\n",
    "data = pd.get_dummies(data, columns=['ocean_proximity'], drop_first=True)"
   ]
  },
  {
   "cell_type": "markdown",
   "metadata": {},
   "source": [
    "4. **Verification of Data Cleaning**: Verifying that the dataset no longer contains missing values and that the categorical variable has been appropriately encoded. This ensures data consistency before proceeding to the analysis phase."
   ]
  },
  {
   "cell_type": "code",
   "execution_count": null,
   "metadata": {},
   "outputs": [],
   "source": [
    "# Check for any remaining missing values and confirm data structure\n",
    "data.info()\n",
    "data.head()\n",
    "data.describe()"
   ]
  },
  {
   "cell_type": "markdown",
   "metadata": {},
   "source": [
    "<a id='exploratory'></a> \n",
    "## Exploratory Data Analysis:\n",
    "---"
   ]
  },
  {
   "cell_type": "markdown",
   "metadata": {},
   "source": [
    "Exploratory Data Analysis (EDA) provides insights into the California housing dataset by visualizing the distribution of house values and exploring relationships between features like median income, location, and ocean proximity. This helps identify key predictors for housing prices and prepares the data for modeling."
   ]
  },
  {
   "cell_type": "markdown",
   "metadata": {},
   "source": [
    "<a id='distribution'></a>\n",
    "### 1. **Distribution Analysis**"
   ]
  },
  {
   "cell_type": "markdown",
   "metadata": {},
   "source": [
    "The Distribution Analysis examines the spread and central tendencies of key features, such as median house value and median income, to understand their variability and highlight any skewness in the dataset.\n",
    "    1. Histogram of Median House Value\n",
    "    1. Distribution of Median Income "
   ]
  },
  {
   "cell_type": "code",
   "execution_count": null,
   "metadata": {},
   "outputs": [],
   "source": [
    "plt.figure(figsize=(12, 8))\n",
    "# Plotting the histogram of 'median_house_value' with more bins for granularity\n",
    "sns.histplot(data['median_house_value'], kde=True, color='skyblue', bins=60)\n",
    "\n",
    "# Adding vertical lines to show mean and median values for better insight\n",
    "plt.axvline(x=data['median_house_value'].mean(), color='red', linestyle='--', linewidth=2, label='Mean Value')\n",
    "plt.axvline(x=data['median_house_value'].median(), color='green', linestyle='-', linewidth=2, label='Median Value')\n",
    "plt.title('Distribution of Median House Value in California', fontsize=18)\n",
    "plt.xlabel('Median House Value (in USD)', fontsize=14)\n",
    "plt.ylabel('Frequency', fontsize=14)\n",
    "plt.legend(fontsize=12)\n",
    "plt.grid(axis='y', linestyle='--', alpha=0.7)\n",
    "mean_value = data['median_house_value'].mean()\n",
    "median_value = data['median_house_value'].median()\n",
    "plt.text(mean_value + 5000, plt.ylim()[1] * 0.7, f'Mean: ${mean_value:.0f}', color='red', fontsize=12, rotation=90)\n",
    "plt.text(median_value + 5000, plt.ylim()[1] * 0.5, f'Median: ${median_value:.0f}', color='green', fontsize=12, rotation=90)\n",
    "plt.show()"
   ]
  },
  {
   "cell_type": "code",
   "execution_count": null,
   "metadata": {},
   "outputs": [],
   "source": [
    "# Distribution of Median Income Visualization\n",
    "plt.figure(figsize=(12, 8))\n",
    "sns.histplot(data['median_income'], kde=True, color='skyblue', bins=50)\n",
    "\n",
    "# Adding vertical lines for the mean and median income for better insight\n",
    "plt.axvline(x=data['median_income'].mean(), color='red', linestyle='--', linewidth=2, label='Mean Income')\n",
    "plt.axvline(x=data['median_income'].median(), color='blue', linestyle='-', linewidth=2, label='Median Income')\n",
    "plt.title('Distribution of Median Income in California Housing Data', fontsize=18)\n",
    "plt.xlabel('Median Income (in tens of thousands)', fontsize=14)\n",
    "plt.ylabel('Frequency', fontsize=14)\n",
    "plt.legend(fontsize=12)\n",
    "plt.grid(axis='y', linestyle='--', alpha=0.7)\n",
    "\n",
    "# Annotating the mean and median values\n",
    "mean_income = data['median_income'].mean()\n",
    "median_income = data['median_income'].median()\n",
    "plt.text(mean_income + 0.1, plt.ylim()[1] * 0.7, f'Mean: ${mean_income:.2f}', color='red', fontsize=12, rotation=90)\n",
    "plt.text(median_income + 0.1, plt.ylim()[1] * 0.5, f'Median: ${median_income:.2f}', color='blue', fontsize=12, rotation=90)\n",
    "plt.show()\n"
   ]
  },
  {
   "cell_type": "markdown",
   "metadata": {},
   "source": [
    "<a id='relationship'></a>\n",
    "### 2. **Relationship Analysis**"
   ]
  },
  {
   "cell_type": "markdown",
   "metadata": {},
   "source": [
    "The Relationship Analysis explores how different features, such as median income and geographic location, correlate with median house value, providing insights into key factors that influence housing prices in the dataset.\n",
    "    1. Scatter Plot: Median Income vs. Median House Value\n",
    "    1. Scatter Plot: Latitude and Longitude vs. Median House Value "
   ]
  },
  {
   "cell_type": "code",
   "execution_count": null,
   "metadata": {},
   "outputs": [],
   "source": [
    "plt.figure(figsize=(12, 8))\n",
    "sns.scatterplot(x='median_income', y='median_house_value', data=data, alpha=0.6,\n",
    "                hue='median_house_value', size='median_income', palette='viridis', sizes=(20, 200))\n",
    "\n",
    "# Adding a regression line for better insight into the trend\n",
    "sns.regplot(x='median_income', y='median_house_value', data=data, scatter=False, color='red', line_kws={'linestyle':'--'}, ci=None)\n",
    "plt.title('Relationship between Median Income and Median House Value', fontsize=18)\n",
    "plt.xlabel('Median Income (in tens of thousands)', fontsize=14)\n",
    "plt.ylabel('Median House Value (in USD)', fontsize=14)\n",
    "plt.legend(title='House Value', loc='upper left', fontsize=12, title_fontsize=14)\n",
    "plt.grid(True, linestyle='--', alpha=0.6)\n",
    "plt.show()"
   ]
  },
  {
   "cell_type": "code",
   "execution_count": null,
   "metadata": {},
   "outputs": [],
   "source": [
    "# Create a figure with 1 row and 3 columns\n",
    "fig, axs = plt.subplots(1, 3, figsize=(24, 8))\n",
    "\n",
    "# Plot 1: Median Income by Location\n",
    "scatter1 = axs[0].scatter(data['longitude'], data['latitude'], c=data['median_income'], cmap='plasma', alpha=0.6, edgecolor='k', linewidth=0.5)\n",
    "axs[0].set_xlabel('Longitude', fontsize=12)\n",
    "axs[0].set_ylabel('Latitude', fontsize=12)\n",
    "axs[0].set_title('Median Income by Location', fontsize=16)\n",
    "fig.colorbar(scatter1, ax=axs[0], label='Income ($k)')\n",
    "\n",
    "# Plot 2: Housing Median Age by Location\n",
    "scatter2 = axs[1].scatter(data['longitude'], data['latitude'], c=data['housing_median_age'], cmap='cividis', alpha=0.8, edgecolor='k', linewidth=0.5)\n",
    "axs[1].set_xlabel('Longitude', fontsize=12)\n",
    "axs[1].set_ylabel('Latitude', fontsize=12)\n",
    "axs[1].set_title('Housing Median Age by Location', fontsize=16)\n",
    "fig.colorbar(scatter2, ax=axs[1], label='Housing Age (Years)')\n",
    "\n",
    "# Plot 3: Median House Value by Location\n",
    "scatter3 = axs[2].scatter(data['longitude'], data['latitude'], c=data['median_house_value'], cmap='magma', alpha=0.6, edgecolor='k', linewidth=0.5)\n",
    "axs[2].set_xlabel('Longitude', fontsize=12)\n",
    "axs[2].set_ylabel('Latitude', fontsize=12)\n",
    "axs[2].set_title('Median House Value by Location', fontsize=16)\n",
    "fig.colorbar(scatter3, ax=axs[2], label='House Value ($)')\n",
    "\n",
    "plt.tight_layout(pad=3.0)\n",
    "plt.subplots_adjust(top=0.92)\n",
    "fig.suptitle('Geospatial Analysis of California Housing Data', fontsize=20, y=1.05)\n",
    "plt.show()\n",
    "\n",
    "\n",
    "# Creating a map centered around California\n",
    "california_map = folium.Map(location=[36.7783,-119.4179], zoom_start = 6, min_zoom=4)\n",
    "df_map = data[['latitude', 'longitude']]\n",
    "heatmap_data = [[row['latitude'], row['longitude']] for index, row in df_map.iterrows()]\n",
    "HeatMap(\n",
    "    heatmap_data,\n",
    "    radius=15,\n",
    "    blur=10,\n",
    "    max_zoom=1,\n",
    "    min_opacity=0.3,\n",
    ").add_to(california_map)\n",
    "california_map\n"
   ]
  },
  {
   "cell_type": "markdown",
   "metadata": {},
   "source": [
    "<a id='correlation'></a>\n",
    "### 3. **Correlation Analysis**"
   ]
  },
  {
   "cell_type": "markdown",
   "metadata": {},
   "source": [
    "Correlation analysis identifies the strength of linear relationships between numerical features in the dataset, highlighting which variables are most closely associated with median house value and helping to detect potential multicollinearity."
   ]
  },
  {
   "cell_type": "code",
   "execution_count": null,
   "metadata": {},
   "outputs": [],
   "source": [
    "plt.figure(figsize=(14, 10))\n",
    "sns.heatmap(\n",
    "    data.corr(), \n",
    "    annot=True, \n",
    "    cmap='RdBu_r', # Reversed Red-Blue colormap to highlight both positive and negative correlations distinctly\n",
    "    linewidths=1, \n",
    "    linecolor='white',\n",
    "    annot_kws={'size': 10},\n",
    "    fmt=\".2f\", \n",
    "    cbar_kws={'shrink': 0.8, 'aspect': 30, 'label': 'Correlation Coefficient'}\n",
    ")\n",
    "plt.title('Correlation Heatmap of California Housing Dataset Features', fontsize=18, pad=20)\n",
    "plt.xticks(fontsize=12, rotation=45, ha='right')\n",
    "plt.yticks(fontsize=12, rotation=0)\n",
    "plt.tight_layout()\n",
    "plt.show()"
   ]
  },
  {
   "cell_type": "markdown",
   "metadata": {},
   "source": [
    "<a id='boxplot'></a>\n",
    "### 4. **Box Plot Analysis**"
   ]
  },
  {
   "cell_type": "markdown",
   "metadata": {},
   "source": [
    "Box Plot Analysis provides a visual summary of how median house values vary across different categories, such as ocean proximity, helping to identify differences and patterns in housing prices across categorical groups in the dataset."
   ]
  },
  {
   "cell_type": "code",
   "execution_count": null,
   "metadata": {},
   "outputs": [],
   "source": [
    "data['ocean_proximity'] = data[['ocean_proximity_INLAND', 'ocean_proximity_ISLAND', 'ocean_proximity_NEAR BAY', 'ocean_proximity_NEAR OCEAN']].idxmax(axis=1).str.replace('ocean_proximity_', '')\n",
    "sns.boxplot(x='ocean_proximity', y='median_house_value', data=data, hue='ocean_proximity', palette='Set3', width=0.6, fliersize=4, legend=False)\n",
    "plt.title('Median House Value by Ocean Proximity', fontsize=20, pad=20)\n",
    "plt.xlabel('Ocean Proximity', fontsize=15)\n",
    "plt.ylabel('Median House Value (in USD)', fontsize=15)\n",
    "plt.grid(axis='y', linestyle='--', alpha=0.7)\n",
    "plt.tight_layout()\n",
    "plt.show()"
   ]
  },
  {
   "cell_type": "markdown",
   "metadata": {},
   "source": [
    "<a id='pairplot'></a>\n",
    "### 5. **Pair Plot Analysis**"
   ]
  },
  {
   "cell_type": "markdown",
   "metadata": {},
   "source": [
    "The Pair Plot provides a visual overview of pairwise relationships between selected features, helping to identify trends, correlations, and potential interactions in the dataset."
   ]
  },
  {
   "cell_type": "code",
   "execution_count": null,
   "metadata": {},
   "outputs": [],
   "source": [
    "selected_features = ['median_house_value', 'median_income', 'total_rooms', 'housing_median_age', 'population']\n",
    "# Sampling the data for better readability and performance\n",
    "sampled_data = data[selected_features].sample(5000, random_state=42)\n",
    "sns.pairplot(sampled_data, diag_kind='kde', kind='scatter', \n",
    "             plot_kws={'alpha': 0.5, 's': 15, 'edgecolor': 'k'}, diag_kws={'fill': True})\n",
    "plt.suptitle('Pair Plot of Selected Features from California Housing Data', y=1.02, fontsize=18)\n",
    "plt.show()\n"
   ]
  },
  {
   "cell_type": "markdown",
   "metadata": {},
   "source": [
    "<a id='edasummary'></a>\n",
    "### 6. **Exploratory Data Analysis Summary**"
   ]
  },
  {
   "cell_type": "markdown",
   "metadata": {},
   "source": [
    "1. **Distribution Analysis**: \n",
    "    - Median House Value: The distribution is right-skewed, with most houses priced below $300,000. The mean value is slightly higher than the median, showing the influence of higher-priced houses.\n",
    "    - Median Income: The median income distribution is also right-skewed, with the majority of households earning between $2,000 and $5,000 (in tens of thousands), indicating some high-income households skewing the average.\n",
    "1. **Relationship Analysis**:\n",
    "    - Median Income vs. Median House Value: The scatter plot shows a clear positive relationship between income and house value. Higher income tends to lead to higher house values, as demonstrated by a distinct upward trend in the plot.\n",
    "    - Geospatial Relationship: House values and incomes are significantly higher near the coast, particularly in areas like Los Angeles and the Bay Area, emphasizing the importance of location in determining house prices.\n",
    "1. **Correlation Heatmap**:\n",
    "    - The correlation heatmap shows that median income has a strong positive correlation with median house value (0.64). Other features such as total rooms, population, and households exhibit strong internal correlations but have limited predictive power for housing prices.\n",
    "1. **Box Plot Analysis by Ocean Proximity**:\n",
    "    - The box plot of median house value by ocean proximity shows that properties ISLAND, NEAR BAY, and NEAR OCEAN have much higher median values compared to INLAND properties. The coastal proximity of properties significantly increases their value.\n",
    "1. **Pair Plot Analysis**:\n",
    "    - The pair plot reveals a strong positive correlation between median income and median house value, whereas relationships between other features like total rooms and median house value are less distinct. The distributions on the diagonal further confirm the skewness seen in earlier analyses.\n",
    "1. **Heatmap**:\n",
    "    - The heatmap provided an interactive visualization of house values across California. Hotspots of high median house values were observed along the coast, particularly near the Bay Area and Southern California. This visualization provided an intuitive understanding of how geography impacts housing prices, reinforcing the importance of location."
   ]
  },
  {
   "cell_type": "markdown",
   "metadata": {},
   "source": [
    "<a id='edaconclusion'></a>\n",
    "### 7. **Exploratory Data Analysis Conclusion**"
   ]
  },
  {
   "cell_type": "markdown",
   "metadata": {},
   "source": [
    "- Income is the strongest predictor of housing price, with clear positive correlations visible in both scatter plots and the correlation heatmap.\n",
    "- Geography has a significant impact on house prices, with properties in coastal areas being far more valuable compared to inland ones. The Folium heatmap and geographic scatter plots emphasize this geographic trend.\n",
    "- Ocean Proximity is a strong determinant of property prices. Homes closer to the coast or near bays and oceans are consistently higher in value than those located inland.\n",
    "- Distributions of Income and Housing Prices show that both are right-skewed, with the presence of high-income households and expensive properties increasing the average beyond the median."
   ]
  },
  {
   "cell_type": "markdown",
   "metadata": {},
   "source": [
    "<a id='modelselection'></a>\n",
    "## Model Selection:\n",
    "---"
   ]
  },
  {
   "cell_type": "markdown",
   "metadata": {},
   "source": [
    "The goal of the Model Selection phase is to identify the best predictive model for estimating median house value based on features like median income, location, and other characteristics of California housing data. Model selection is a critical step in machine learning where compare the performance of different models to determine which one fits the data best while maintaining a good balance between bias and variance.\n",
    "\n",
    "Multiple regression models will be tested to determine their predictive power:\n",
    "\n",
    "1. **Linear Regression**: This model helps to establish a linear relationship between features like median income and median house value. It is simple, interpretable, and a good baseline for understanding the relationships in the data.\n",
    "\n",
    "1. **Ridge and Lasso Regression**: These are forms of regularized linear regression that help control overfitting. Ridge Regression adds a penalty for the magnitude of coefficients to make the model more robust, while Lasso Regression performs feature selection by driving some feature coefficients to zero.\n",
    "\n",
    "1. **Polynomial Regression**: This model captures the non-linear relationship between median income and median house value, allowing us to model complex data patterns that may not fit a straight line.\n",
    "\n",
    "1. **Random Forest Regression**: This is an ensemble model that builds multiple decision trees and averages their predictions. Random Forest helps capture complex interactions between features and is useful for handling large datasets."
   ]
  },
  {
   "cell_type": "markdown",
   "metadata": {},
   "source": [
    "<a id='modelselectioncriteria'></a>\n",
    "#### **Model Selection Criteria**: \n",
    "\n",
    "Each model will be evaluated based on performance metrics such as:\n",
    "\n",
    "- **R-Squared (R²)**: This metric measures the proportion of variance in the target variable that is explained by the features. A higher R² value indicates a better fit.\n",
    "- **Mean Squared Error (MSE)**: MSE measures the average squared difference between actual and predicted values, providing an idea of how accurate the model is.\n",
    "- **Mean Absolute Error (MAE)**: This metric captures the average difference between actual and predicted values, offering a direct interpretation of prediction accuracy.\n",
    "\n",
    "By comparing these metrics across different models, the aim is to find a balance between underfitting and overfitting, thereby selecting the model that best generalizes to unseen data."
   ]
  },
  {
   "cell_type": "markdown",
   "metadata": {},
   "source": [
    "<a id='modelselectionplanned'></a>\n",
    "#### **Planned Models for Selection**:\n",
    "1. Linear Regression (Median House Value using Median Income)\n",
    "1. Linear Regression (Using Longitude and Latitude to predict house prices based on location)\n",
    "1. Multiple Linear Regression (Using Median Income, Total Rooms, Population)\n",
    "1. Ridge Regression (Using Median Income)\n",
    "1. Lasso Regression (Using Median Income)\n",
    "1. Polynomial Regression (Using Median Income)\n",
    "1. Random Forest Regression (Using Median Income)"
   ]
  },
  {
   "cell_type": "markdown",
   "metadata": {},
   "source": [
    "<a id='modelselectionsteps'></a>\n",
    "#### **Steps for Model Selection**:\n",
    "1. **Data Preparation**: Splitting the data into training and testing sets for model evaluation.\n",
    "1. **Model Implementation**: Implementing each regression model, starting with Linear Regression.\n",
    "1. **Model Evaluation**: Evaluating models using metrics like R-Squared, MSE, and MAE."
   ]
  },
  {
   "cell_type": "markdown",
   "metadata": {},
   "source": [
    "<a id='modelanalysis'></a>\n",
    "## Model Analysis:\n",
    "---"
   ]
  },
  {
   "cell_type": "markdown",
   "metadata": {},
   "source": [
    "In the Model Analysis phase, each of the trained models will be assessed based on their predictive performance, error metrics, and ability to generalize to unseen data. This involves evaluating the metrics of **R-Squared (R²)**, **Mean Squared Error (MSE)**, and **Mean Absolute Error (MAE)**. Additionally, model behavior, residual analysis, and robustness checks will be considered to determine the best-performing model among those used."
   ]
  },
  {
   "cell_type": "markdown",
   "metadata": {},
   "source": [
    "<a id='modelcriteria'></a>\n",
    "#### **Model Analysis Criteria**:\n",
    "- Performance Metrics:\n",
    "    - **R-Squared (R²)**: Represents the proportion of variance explained by the model. Higher R² indicates better predictive power.\n",
    "    - **Mean Squared Error (MSE)**: Measures the average squared error between predictions and actual values, indicating how well the model is performing.\n",
    "    - **Mean Absolute Error (MAE)**: Captures the average magnitude of prediction errors without considering their direction, providing an overall error value in the original units.\n",
    "- Model Complexity: \n",
    "    - Assessing whether adding complexity improves the model's performance significantly or if it leads to overfitting.\n",
    "    - Ridge and Lasso Regression are regularized models that help in mitigating overfitting and feature importance, while Polynomial Regression and Random Forest Regression account for potential non-linear relationships.\n",
    "- Residual Analysis:\n",
    "    - Analyzing residuals for patterns that may indicate model biases or misspecifications.\n",
    "    - Homogeneity of Variance: Residuals should have constant variance.\n",
    "    - Normality: Residuals should be normally distributed."
   ]
  },
  {
   "cell_type": "markdown",
   "metadata": {},
   "source": [
    "<a id='sampling'></a>\n",
    "#### **Sampling**: \n",
    "\n",
    "Sampling in machine learning involves splitting data into a training set for model learning and a testing set for evaluation. This approach helps assess the model's performance on unseen data, providing an estimate of its accuracy and generalization ability.\n",
    "1. **Train-Test Split**: The dataset is divided into training and testing sets, typically with an 80-20 ratio, to allow the model to learn from a subset (training data) and evaluate its performance on unseen data (test data). This approach helps assess the model's generalization ability.\n",
    "1. **Random Sampling**: A random seed (like random_state=42) ensures that the sampling is reproducible, meaning the same train-test split can be achieved each time, which is useful for consistent results and comparisons across different model runs."
   ]
  },
  {
   "cell_type": "code",
   "execution_count": 80,
   "metadata": {},
   "outputs": [],
   "source": [
    "sample_test_size = 0.8\n",
    "sample_random_state = 42"
   ]
  },
  {
   "cell_type": "markdown",
   "metadata": {},
   "source": [
    "<a id='linear1'></a>\n",
    "### 1. **Linear Regression (Median House Value using Median Income)**"
   ]
  },
  {
   "cell_type": "markdown",
   "metadata": {},
   "source": [
    "This model predicts the median house value based on median income, establishing a simple linear relationship to understand how income influences housing prices."
   ]
  },
  {
   "cell_type": "code",
   "execution_count": null,
   "metadata": {},
   "outputs": [],
   "source": [
    "# Selecting the feature and target for the first model: Predicting Median House Value using Median Income\n",
    "X = data[['median_income']]\n",
    "y = data['median_house_value']\n",
    "\n",
    "# Splitting the dataset into training and testing sets\n",
    "X_train, X_test, y_train, y_test = train_test_split(X, y, test_size=sample_test_size, random_state=sample_random_state)\n",
    "\n",
    "# Creating and training the Linear Regression model\n",
    "linear_reg = LinearRegression()\n",
    "linear_reg.fit(X_train, y_train)\n",
    "\n",
    "# Making predictions on the testing set\n",
    "y_pred = linear_reg.predict(X_test)\n",
    "\n",
    "# Evaluating the model\n",
    "mse = mean_squared_error(y_test, y_pred)\n",
    "r2 = r2_score(y_test, y_pred)\n",
    "mae = mean_absolute_error(y_test, y_pred)\n",
    "\n",
    "# Displaying the evaluation metrics\n",
    "print(\"Mean Squared Error (MSE):\", mse)\n",
    "print(\"R-Squared (R²):\", r2)\n",
    "print(\"Mean Absolute Error (MAE):\", mae)\n",
    "\n",
    "# Residual Analysis\n",
    "# Calculate residuals\n",
    "residuals = y_test - y_pred\n",
    "\n",
    "# Residual Distribution Plot\n",
    "plt.figure(figsize=(10, 6))\n",
    "sns.histplot(residuals, kde=True, color='skyblue', bins=30)\n",
    "\n",
    "# Adding vertical lines for mean and median\n",
    "plt.axvline(residuals.mean(), color='red', linestyle='--', linewidth=2, label='Mean')\n",
    "plt.axvline(residuals.median(), color='orange', linestyle='-', linewidth=2, label='Median')\n",
    "\n",
    "plt.title('Residual Distribution for Linear Regression (Median Income vs. Median House Value)', fontsize=16)\n",
    "plt.xlabel('Residuals')\n",
    "plt.ylabel('Frequency')\n",
    "plt.legend()\n",
    "plt.grid(axis='y', linestyle='--', alpha=0.7)\n",
    "plt.show()\n",
    "plt.figure(figsize=(10, 6))\n",
    "\n",
    "sc = plt.scatter(y_test, y_pred, alpha=0.6, c=y_pred, cmap='coolwarm', edgecolor='k', s=40)\n",
    "\n",
    "# Line of perfect prediction\n",
    "plt.plot([y_test.min(), y_test.max()], [y_test.min(), y_test.max()], 'r--', linewidth=2, label='Perfect Prediction')\n",
    "plt.xlabel('Actual Median House Value', fontsize=12)\n",
    "plt.ylabel('Predicted Median House Value', fontsize=12)\n",
    "plt.title('Predicted vs. Actual Median House Value', fontsize=16)\n",
    "plt.colorbar(sc, label='Predicted House Value')\n",
    "plt.grid(True)\n",
    "plt.legend()\n",
    "plt.show()"
   ]
  },
  {
   "cell_type": "markdown",
   "metadata": {},
   "source": [
    "**Interpretation**: The Linear Regression model, using median income to predict median house value, yields the following insights:\n",
    "- **$MSE$** of approximately 5.31 billion indicates large prediction errors, particularly for high-value homes.\n",
    "- **$R^2$** of 0.415 shows that median income explains about 43.4% of the variance in median house values, suggesting that additional features are needed to improve predictive power.\n",
    "- **$MAE$** of $55,706 reflects significant average prediction errors, indicating that the model’s accuracy may be insufficient for precise pricing predictions.\n",
    "\n",
    "**Chart Analysis**:\n",
    "- **Residual Distribution**: Residuals are centered around zero but show a slight skew, with larger errors in high-value predictions.\n",
    "- **Predicted vs. Actual Scatter**: While there is a positive trend, deviations from the perfect prediction line, especially at high values, highlight limitations in using a single feature."
   ]
  },
  {
   "cell_type": "markdown",
   "metadata": {},
   "source": [
    "<a id='linear2'></a>\n",
    "### 2. **Linear Regression (Using Longitude and Latitude to predict house prices based on location)**"
   ]
  },
  {
   "cell_type": "markdown",
   "metadata": {},
   "source": [
    "This model predicts median house value based on geographical coordinates, aiming to capture the impact of location on housing prices."
   ]
  },
  {
   "cell_type": "code",
   "execution_count": null,
   "metadata": {},
   "outputs": [],
   "source": [
    "# Selecting features (longitude, latitude) and target (median house value)\n",
    "X_loc = data[['longitude', 'latitude']]\n",
    "y_loc = data['median_house_value']\n",
    "\n",
    "# Splitting the dataset into training and testing sets\n",
    "X_train_loc, X_test_loc, y_train_loc, y_test_loc = train_test_split(X_loc, y_loc, test_size=sample_test_size, random_state=sample_random_state)\n",
    "\n",
    "# Creating and training the Linear Regression model\n",
    "linear_reg_loc = LinearRegression()\n",
    "linear_reg_loc.fit(X_train_loc, y_train_loc)\n",
    "\n",
    "# Making predictions on the testing set\n",
    "y_pred_loc = linear_reg_loc.predict(X_test_loc)\n",
    "\n",
    "# Evaluating the model\n",
    "mse_loc = mean_squared_error(y_test_loc, y_pred_loc)\n",
    "r2_loc = r2_score(y_test_loc, y_pred_loc)\n",
    "mae_loc = mean_absolute_error(y_test_loc, y_pred_loc)\n",
    "\n",
    "# Displaying the evaluation metrics\n",
    "print(\"Mean Squared Error (MSE):\", mse_loc)\n",
    "print(\"R-Squared (R²):\", r2_loc)\n",
    "print(\"Mean Absolute Error (MAE):\", mae_loc)\n",
    "\n",
    "# Residual Analysis - Calculate residuals\n",
    "residuals_loc = y_test_loc - y_pred_loc\n",
    "\n",
    "# Residual Distribution Plot\n",
    "plt.figure(figsize=(10, 6))\n",
    "sns.histplot(residuals_loc, kde=True, color='skyblue', bins=30)\n",
    "\n",
    "# Adding vertical lines for mean and median\n",
    "plt.axvline(residuals_loc.mean(), color='red', linestyle='--', linewidth=2, label='Mean')\n",
    "plt.axvline(residuals_loc.median(), color='orange', linestyle='-', linewidth=2, label='Median')\n",
    "\n",
    "# Adding title, labels, legend, and grid\n",
    "plt.title('Residual Distribution for Linear Regression (Longitude & Latitude vs. Median House Value)', fontsize=16)\n",
    "plt.xlabel('Residuals')\n",
    "plt.ylabel('Frequency')\n",
    "plt.legend()\n",
    "plt.grid(axis='y', linestyle='--', alpha=0.7)\n",
    "plt.show()\n",
    "\n",
    "# Predicted vs. Actual Scatter Plot\n",
    "plt.figure(figsize=(10, 6))\n",
    "\n",
    "# Scatter plot with color gradient\n",
    "sc = plt.scatter(y_test_loc, y_pred_loc, alpha=0.6, c=y_pred_loc, cmap='coolwarm', s=40)\n",
    "\n",
    "# Line of perfect prediction\n",
    "plt.plot([y_test_loc.min(), y_test_loc.max()], [y_test_loc.min(), y_test_loc.max()], 'r--', linewidth=2, label='Perfect Prediction')\n",
    "\n",
    "# Adding title, labels, color bar, and grid\n",
    "plt.xlabel('Actual Median House Value', fontsize=12)\n",
    "plt.ylabel('Predicted Median House Value', fontsize=12)\n",
    "plt.title('Predicted vs. Actual Median House Value (Longitude & Latitude)', fontsize=16)\n",
    "plt.colorbar(sc, label='Predicted House Value')\n",
    "plt.grid(True)\n",
    "plt.legend()\n",
    "plt.show()\n",
    "\n",
    "# Folium Heatmap for Predicted Median House Values\n",
    "# Prepare data for heatmap\n",
    "heat_data = [[row['latitude'], row['longitude'], prediction] for row, prediction in zip(X_test_loc.to_dict('records'), y_pred_loc)]\n",
    "\n",
    "# Create base map\n",
    "california_map = folium.Map(location=[36.7783, -119.4179], zoom_start=6, min_zoom=4)\n",
    "\n",
    "# Add HeatMap layer\n",
    "HeatMap(heat_data, radius=8, blur=15, max_zoom=13).add_to(california_map)\n",
    "\n",
    "# Display the map\n",
    "california_map"
   ]
  },
  {
   "cell_type": "markdown",
   "metadata": {},
   "source": [
    "**Interpretation**: The Linear Regression model, using longitude and latitude to predict median house value, yields the following insights:\n",
    "- **$MSE$** of approximately 6.76 billion indicates large prediction errors, particularly for homes in high-value locations, as location alone may not fully capture price determinants.\n",
    "- **$R^2$** of 0.255 shows that longitude and latitude explain only about 25.4% of the variance in median house values, suggesting that additional features are essential for more accurate predictions.\n",
    "- **$MAE$** of $64,215 reflects considerable average prediction errors, indicating limited precision in predicting housing prices based solely on location.\n",
    "\n",
    "**Chart Analysis**:\n",
    "- **Residual Distribution Plot**:\n",
    "    - The residuals are centered around zero, indicating no strong overall bias. However, the distribution is broad, with substantial errors on both the positive and negative ends, reflecting inconsistent prediction accuracy.\n",
    "    - The slight skew in the distribution and the long tails indicate that the model struggles with outliers, particularly with homes in higher or lower price ranges.\n",
    "    - The mean and median residuals being close to zero confirm that the model does not have systematic bias but lacks precision due to missing influential predictors.\n",
    "\n",
    "- **Predicted vs. Actual Scatter Plot**:\n",
    "    - The scatter plot shows a weak positive trend, with points scattered widely around the line of perfect prediction. The large dispersion indicates that the model has substantial difficulty in accurately predicting housing prices.\n",
    "    - The color gradient (from blue to red) represents predicted values, showing that higher predicted prices often deviate significantly from actual values, further highlighting the limitations of location-only predictors.\n",
    "    - This scatter pattern suggests that latitude and longitude alone do not fully capture the variability in housing prices, as homes in similar geographic areas may still have vastly different prices due to factors not included in this model, such as house size, income levels, or neighborhood characteristics.\n",
    "\n",
    "- **Heatmap**:\n",
    "    - The heatmap shows areas of higher predicted house prices, with concentrations around major cities like Los Angeles, San Francisco, and San Diego. These areas show intense heat, indicating the model's higher predicted values in urban centers.\n",
    "    - While the heatmap provides a useful geographical representation, it cannot account for finer details that might affect house prices within these areas, such as neighborhood quality or property features, which further limits the accuracy of predictions based solely on location."
   ]
  },
  {
   "cell_type": "markdown",
   "metadata": {},
   "source": [
    "<a id='multiple'></a>\n",
    "### 3. **Multiple Linear Regression (Using Median Income, Total Rooms, Population)**"
   ]
  },
  {
   "cell_type": "markdown",
   "metadata": {},
   "source": [
    "This model predicts the median house value based on median income, total rooms, and population, establishing a linear relationship to understand how these features collectively influence housing prices."
   ]
  },
  {
   "cell_type": "code",
   "execution_count": null,
   "metadata": {},
   "outputs": [],
   "source": [
    "# define our predictor variables\n",
    "X = data[['median_income', 'total_rooms', 'population']]\n",
    "\n",
    "# define our target variable\n",
    "y = data['median_house_value']\n",
    "\n",
    "# split data into training and testing sets\n",
    "X_train, X_test, y_train, y_test = train_test_split(X, y, test_size=0.2, random_state=42)\n",
    "\n",
    "# train the multiple linear regression model\n",
    "model = LinearRegression()\n",
    "model.fit(X_train, y_train)\n",
    "\n",
    "# make predictions on the test data\n",
    "y_pred = model.predict(X_test)\n",
    "\n",
    "# calculate the R-squared score and mean squared error\n",
    "mse = mean_squared_error(y_test, y_pred)\n",
    "r2 = r2_score(y_test, y_pred)\n",
    "\n",
    "print(f\"Mean Squared Error: {mse}\")\n",
    "print(f\"R-squared Score: {r2}\")\n",
    "\n",
    "# plotting our results\n",
    "fig = plt.figure(figsize=(10, 7))\n",
    "ax = fig.add_subplot(111, projection='3d')\n",
    "\n",
    "# scatter plot for the actual values\n",
    "ax.scatter(X_test['median_income'], X_test['total_rooms'], y_test, color='blue', label='Actual Values', alpha=0.6)\n",
    "\n",
    "# scatter plot of the predicted values\n",
    "ax.scatter(X_test['median_income'], X_test['total_rooms'], y_pred, color='red', label='Predicted Values', alpha=0.6)\n",
    "\n",
    "# set out plot labels\n",
    "ax.set_xlabel('Median Income')\n",
    "ax.set_ylabel('Total Rooms')\n",
    "ax.set_zlabel('Median House Value')\n",
    "ax.set_title('Multiple Linear Regression: Actual vs Predicted House Prices')\n",
    "ax.legend()\n",
    "\n",
    "plt.show()"
   ]
  },
  {
   "cell_type": "markdown",
   "metadata": {},
   "source": [
    "**Interpretation**: \n",
    "\n",
    "**Chart Analysis**:"
   ]
  },
  {
   "cell_type": "markdown",
   "metadata": {},
   "source": [
    "<a id='ridge'></a>\n",
    "### 4. **Ridge Regression (Using Median Income)**"
   ]
  },
  {
   "cell_type": "markdown",
   "metadata": {},
   "source": [
    "This model predicts the median house value based on median income, using Ridge Regression to apply regularization. This approach penalizes large coefficients, reducing overfitting and improving the model's generalization by controlling the impact of outliers or noise in the data."
   ]
  },
  {
   "cell_type": "code",
   "execution_count": null,
   "metadata": {},
   "outputs": [],
   "source": [
    "\n",
    "# define our predictor variable \n",
    "X = data[['median_income']]\n",
    "\n",
    "# define our target variable\n",
    "y = data['median_house_value']\n",
    "\n",
    "# split data into training and testing sets\n",
    "X_train, X_test, y_train, y_test = train_test_split(X, y, test_size=0.2, random_state=42)\n",
    "\n",
    "# train the Ridge regression model\n",
    "ridge_model = Ridge(alpha=1.0) \n",
    "ridge_model.fit(X_train, y_train)\n",
    "\n",
    "# make predictions on the test data\n",
    "y_pred = ridge_model.predict(X_test)\n",
    "\n",
    "# calculate alculate Mean Squared Error and R-squared Score\n",
    "mse = mean_squared_error(y_test, y_pred)\n",
    "r2 = r2_score(y_test, y_pred)\n",
    "\n",
    "print(f\"Mean Squared Error: {mse}\")\n",
    "print(f\"R-squared Score: {r2}\")\n",
    "\n",
    "# plotting ridge regrssion\n",
    "plt.figure(figsize=(10, 6))\n",
    "plt.scatter(X_test, y_test, color='blue', label='Actual Values', alpha=0.6)\n",
    "plt.plot(X_test, y_pred, color='red', linewidth=2, label='Ridge Regression Line')\n",
    "plt.xlabel('Median Income')\n",
    "plt.ylabel('Median House Value')\n",
    "plt.title('Ridge Regression: Median Income vs Median House Value')\n",
    "plt.legend()\n",
    "plt.show()"
   ]
  },
  {
   "cell_type": "markdown",
   "metadata": {},
   "source": [
    "**Interpretation**: \n",
    "\n",
    "**Chart Analysis**:"
   ]
  },
  {
   "cell_type": "markdown",
   "metadata": {},
   "source": [
    "<a id='lasso'></a>\n",
    "### 5. **Lasso Regression (Using Median Income)**"
   ]
  },
  {
   "cell_type": "markdown",
   "metadata": {},
   "source": [
    "This model predicts the median house value based on median income, using Lasso Regression to apply regularization. Lasso Regression not only reduces overfitting by penalizing large coefficients but also performs feature selection by driving some coefficients to zero, thus simplifying the model and enhancing interpretability."
   ]
  },
  {
   "cell_type": "code",
   "execution_count": null,
   "metadata": {},
   "outputs": [],
   "source": [
    "# define our predictor variable\n",
    "X = data[['median_income']]\n",
    "\n",
    "# define our target variable\n",
    "y = data['median_house_value']\n",
    "\n",
    "# Split into training and testing sets\n",
    "X_train, X_test, y_train, y_test = train_test_split(X, y, test_size=0.2, random_state=42)\n",
    "\n",
    "# train the Lasso regression model\n",
    "lasso_model = Lasso(alpha=1.0)  \n",
    "lasso_model.fit(X_train, y_train)\n",
    "\n",
    "# make predictions on the test data\n",
    "y_pred = lasso_model.predict(X_test)\n",
    "\n",
    "# calculate Mean Squared Error and R-squared Score\n",
    "mse = mean_squared_error(y_test, y_pred)\n",
    "r2 = r2_score(y_test, y_pred)\n",
    "\n",
    "print(f\"Mean Squared Error: {mse}\")\n",
    "print(f\"R-squared Score: {r2}\")\n",
    "\n",
    "# plot the Lasso regression results\n",
    "plt.figure(figsize=(10, 6))\n",
    "plt.scatter(X_test, y_test, color='blue', label='Actual Values', alpha=0.6)\n",
    "plt.plot(X_test, y_pred, color='red', linewidth=2, label='Lasso Regression Line')\n",
    "plt.xlabel('Median Income')\n",
    "plt.ylabel('Median House Value')\n",
    "plt.title('Lasso Regression: Median Income vs Median House Value')\n",
    "plt.legend()\n",
    "plt.show()\n"
   ]
  },
  {
   "cell_type": "markdown",
   "metadata": {},
   "source": [
    "**Interpretation**: \n",
    "\n",
    "**Chart Analysis**:"
   ]
  },
  {
   "cell_type": "markdown",
   "metadata": {},
   "source": [
    "<a id='polynomial'></a>\n",
    "### 6. **Polynomial Regression (Using Median Income)**"
   ]
  },
  {
   "cell_type": "markdown",
   "metadata": {},
   "source": [
    "This model predicts the median house value based on median income by fitting a polynomial relationship, allowing for the capture of non-linear patterns in the data. By transforming the linear model into a polynomial one, this approach better models the complex relationship between income and housing prices, potentially improving prediction accuracy."
   ]
  },
  {
   "cell_type": "code",
   "execution_count": null,
   "metadata": {},
   "outputs": [],
   "source": [
    "# Selecting the feature and target for the model\n",
    "X_poly = data[['median_income']]\n",
    "y_poly = data['median_house_value']\n",
    "\n",
    "# Transforming the feature into polynomial features\n",
    "poly_transformer = PolynomialFeatures(degree=2)  # Degree can be adjusted\n",
    "X_poly_transformed = poly_transformer.fit_transform(X_poly)\n",
    "\n",
    "# Splitting the dataset into training and testing sets\n",
    "X_train_poly, X_test_poly, y_train_poly, y_test_poly = train_test_split(X_poly_transformed, y_poly, test_size=sample_test_size, random_state=sample_random_state)\n",
    "\n",
    "# Creating and training the Polynomial Regression model\n",
    "poly_reg = LinearRegression()\n",
    "poly_reg.fit(X_train_poly, y_train_poly)\n",
    "\n",
    "# Making predictions on the testing set\n",
    "y_pred_poly = poly_reg.predict(X_test_poly)\n",
    "\n",
    "# Evaluating the model\n",
    "mse_poly = mean_squared_error(y_test_poly, y_pred_poly)\n",
    "r2_poly = r2_score(y_test_poly, y_pred_poly)\n",
    "mae_poly = mean_absolute_error(y_test_poly, y_pred_poly)\n",
    "\n",
    "# Displaying the evaluation metrics\n",
    "print(\"Mean Squared Error (MSE):\", mse_poly)\n",
    "print(\"R-Squared (R²):\", r2_poly)\n",
    "print(\"Mean Absolute Error (MAE):\", mae_poly)\n",
    "\n",
    "# Visual Analysis\n",
    "# Plotting Predicted vs. Actual Values\n",
    "plt.figure(figsize=(10, 6))\n",
    "sc = plt.scatter(y_test_poly, y_pred_poly, alpha=0.6, c=y_pred_loc, cmap='coolwarm', s=40)\n",
    "plt.plot([y_test_poly.min(), y_test_poly.max()], [y_test_poly.min(), y_test_poly.max()], 'r--', label='Perfect Prediction')\n",
    "plt.xlabel('Actual Median House Value')\n",
    "plt.ylabel('Predicted Median House Value')\n",
    "plt.title('Predicted vs. Actual Median House Value (Polynomial Regression)')\n",
    "plt.legend()\n",
    "plt.grid(True)\n",
    "plt.show()\n",
    "\n",
    "# Residual Analysis\n",
    "residuals_poly = y_test_poly - y_pred_poly\n",
    "\n",
    "plt.figure(figsize=(10, 6))\n",
    "sns.histplot(residuals_poly, kde=True, color='skyblue', bins=30)\n",
    "plt.axvline(residuals_poly.mean(), color='red', linestyle='--', label='Mean')\n",
    "plt.axvline(residuals_poly.median(), color='orange', label='Median')\n",
    "plt.title('Residual Distribution for Polynomial Regression (Median Income)')\n",
    "plt.xlabel('Residuals')\n",
    "plt.ylabel('Frequency')\n",
    "plt.legend()\n",
    "plt.grid(axis='y', linestyle='--', alpha=0.7)\n",
    "plt.show()"
   ]
  },
  {
   "cell_type": "markdown",
   "metadata": {},
   "source": [
    "**Interpretation**: The Linear Regression model, using longitude and latitude to predict median house value, yields the following insights:\n",
    "- **$MSE$** of 5.31 billion – Indicates significant prediction errors, especially at higher house values.\n",
    "- **$R^2$** of 0.415 explains 41.5% of price variance, suggesting moderate accuracy.\n",
    "- **$MAE$** of $55,801 explains average deviation shows moderate prediction accuracy.\n",
    "\n",
    "**Chart Analysis**:\n",
    "- **Residual Distribution Plot**:\n",
    "    - Residuals are centered around zero, showing no strong bias. Slight skew and long tails indicate errors, particularly for outliers.\n",
    "    - Mean and median close to zero confirm balanced prediction errors.\n",
    "- **Predicted vs. Actual Scatter Plot**:\n",
    "    - Positive trend but notable deviations from the perfect prediction line, especially for high values, show limitations.\n",
    "    - Dense clustering at lower values indicates better accuracy for mid-range prices, with increased errors at higher values."
   ]
  },
  {
   "cell_type": "markdown",
   "metadata": {},
   "source": [
    "<a id='randomforest'></a>\n",
    "### 7. **Random Forest Regression (Using Median Income)**"
   ]
  },
  {
   "cell_type": "markdown",
   "metadata": {},
   "source": [
    "This model predicts the median house value based on median income using Random Forest Regression, an ensemble method that builds multiple decision trees and averages their predictions. By capturing complex, non-linear relationships and reducing overfitting through averaging, Random Forest improves prediction accuracy and robustness compared to single linear models."
   ]
  },
  {
   "cell_type": "code",
   "execution_count": null,
   "metadata": {},
   "outputs": [],
   "source": [
    "# Selecting the feature and target for the model\n",
    "X_rf = data[['median_income']]\n",
    "y_rf = data['median_house_value']\n",
    "\n",
    "# Splitting the dataset into training and testing sets\n",
    "X_train_rf, X_test_rf, y_train_rf, y_test_rf = train_test_split(X_rf, y_rf, test_size=sample_test_size, random_state=sample_random_state)\n",
    "\n",
    "# Creating and training the Random Forest Regressor model\n",
    "rf_regressor = RandomForestRegressor(n_estimators=100, random_state=sample_random_state)\n",
    "rf_regressor.fit(X_train_rf, y_train_rf)\n",
    "\n",
    "# Making predictions on the testing set\n",
    "y_pred_rf = rf_regressor.predict(X_test_rf)\n",
    "\n",
    "# Evaluating the model\n",
    "mse_rf = mean_squared_error(y_test_rf, y_pred_rf)\n",
    "r2_rf = r2_score(y_test_rf, y_pred_rf)\n",
    "mae_rf = mean_absolute_error(y_test_rf, y_pred_rf)\n",
    "\n",
    "print(\"Random Forest Model Evaluation Metrics:\")\n",
    "print(\"Mean Squared Error (MSE):\", mse_rf)\n",
    "print(\"R-Squared (R²):\", r2_rf)\n",
    "print(\"Mean Absolute Error (MAE):\", mae_rf)\n",
    "\n",
    "# Feature Importance (with a single feature, this will show how important median income is in the model)\n",
    "importances = rf_regressor.feature_importances_\n",
    "print(\"Feature Importance (Median Income):\", importances[0])\n",
    "\n",
    "# Visualize Predicted vs Actual Values\n",
    "plt.figure(figsize=(10, 6))\n",
    "plt.scatter(y_test_rf, y_pred_rf, alpha=0.6, c=y_pred_loc, cmap='coolwarm', s=40)\n",
    "plt.plot([y_test_rf.min(), y_test_rf.max()], [y_test_rf.min(), y_test_rf.max()], 'r--', label='Perfect Prediction')\n",
    "plt.xlabel('Actual Median House Value')\n",
    "plt.ylabel('Predicted Median House Value')\n",
    "plt.title('Predicted vs. Actual Median House Value (Random Forest Regression)')\n",
    "plt.legend()\n",
    "plt.grid(True)\n",
    "plt.show()"
   ]
  },
  {
   "cell_type": "markdown",
   "metadata": {},
   "source": [
    "**Interpretation**: The Linear Regression model, using longitude and latitude to predict median house value, yields the following insights:\n",
    "- **$MSE$** of 7.60 billion – This high MSE indicates substantial prediction errors, suggesting that median income alone may not be sufficient for accurately predicting house prices, even with a non-linear model like Random Forest.\n",
    "- **$R^2$** of 0.162 – The model explains only 16.2% of the variance in median house values, indicating limited predictive power. Additional features would likely improve model performance significantly.\n",
    "- **$MAE$** of $65,591 – On average, the model’s predictions deviate from actual values by around $65,734, reflecting moderate to high prediction errors.\n",
    "- **Feature Importance (Median Income)**: 1.0 – Since median income is the sole feature, it has full importance in the model, though it clearly does not capture all the necessary information to accurately predict housing prices.\n",
    "\n",
    "**Chart Analysis**:\n",
    "- **Predicted vs. Actual Scatter Plot**:\n",
    "    - **Positive Correlation**: There is a positive correlation between actual and predicted values, suggesting that median income does have some impact on median house value. However, this relationship is weak, as reflected by the high dispersion around the perfect prediction line.\n",
    "    - **Deviation from Perfect Prediction**: Many points deviate significantly from the red dashed line (perfect prediction line), indicating that the model struggles to capture the variability in house prices accurately. The spread of points around the line highlights the model’s limited accuracy with a single feature.\n",
    "    - **Density of Points**: The points are widely scattered, particularly for higher house values, indicating that the model’s performance worsens with increasing house prices. This suggests that income alone is insufficient to predict prices accurately, as other influential factors are missing."
   ]
  },
  {
   "cell_type": "markdown",
   "metadata": {},
   "source": [
    "<a id='comparative'></a>\n",
    "## Comparative Analysis:\n",
    "---"
   ]
  },
  {
   "cell_type": "markdown",
   "metadata": {},
   "source": [
    "<a id='hypothesis'></a>\n",
    "## Hypothesis Validation and testing:\n",
    "---"
   ]
  },
  {
   "cell_type": "markdown",
   "metadata": {},
   "source": [
    "<a id='conclusion'></a>\n",
    "## Conclusion:\n",
    "---"
   ]
  },
  {
   "cell_type": "markdown",
   "metadata": {},
   "source": [
    "<a id='references'></a>\n",
    "## References:\n",
    "---"
   ]
  },
  {
   "cell_type": "markdown",
   "metadata": {},
   "source": [
    "- Cam Nugent. (2023). California Housing Prices [Data set]. Kaggle. https://www.kaggle.com/datasets/camnugent/california-housing-prices/data\n",
    "- Torgo, L. (1997). California Housing Prices. Retrieved from https://www.dcc.fc.up.pt/~ltorgo/Regression/cal_housing.html"
   ]
  }
 ],
 "metadata": {
  "kernelspec": {
   "display_name": "base",
   "language": "python",
   "name": "python3"
  },
  "language_info": {
   "codemirror_mode": {
    "name": "ipython",
    "version": 3
   },
   "file_extension": ".py",
   "mimetype": "text/x-python",
   "name": "python",
   "nbconvert_exporter": "python",
   "pygments_lexer": "ipython3",
   "version": "3.12.3"
  }
 },
 "nbformat": 4,
 "nbformat_minor": 2
}
